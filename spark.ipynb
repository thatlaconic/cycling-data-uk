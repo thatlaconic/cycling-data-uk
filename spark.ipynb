{
 "cells": [
  {
   "cell_type": "code",
   "execution_count": 1,
   "id": "68c393da-488e-44a2-a74c-ede7a4cb4cbd",
   "metadata": {},
   "outputs": [],
   "source": [
    "import pyspark\n",
    "from pyspark.sql import SparkSession\n",
    "from pyspark.sql import types"
   ]
  },
  {
   "cell_type": "code",
   "execution_count": 2,
   "id": "62d5dd6f-e5fd-4082-8cb8-01c5e3cbfc36",
   "metadata": {},
   "outputs": [
    {
     "name": "stderr",
     "output_type": "stream",
     "text": [
      "25/05/10 09:33:51 WARN Utils: Your hostname, codespaces-f4f75e resolves to a loopback address: 127.0.0.1; using 10.0.0.55 instead (on interface eth0)\n",
      "25/05/10 09:33:51 WARN Utils: Set SPARK_LOCAL_IP if you need to bind to another address\n",
      "Setting default log level to \"WARN\".\n",
      "To adjust logging level use sc.setLogLevel(newLevel). For SparkR, use setLogLevel(newLevel).\n",
      "25/05/10 09:33:52 WARN NativeCodeLoader: Unable to load native-hadoop library for your platform... using builtin-java classes where applicable\n"
     ]
    }
   ],
   "source": [
    "spark = SparkSession.builder \\\n",
    "    .master(\"local[*]\") \\\n",
    "    .appName('test') \\\n",
    "    .getOrCreate()"
   ]
  },
  {
   "cell_type": "code",
   "execution_count": 3,
   "id": "fbadac47-d755-4a21-878d-ff2b7a485c98",
   "metadata": {},
   "outputs": [
    {
     "name": "stderr",
     "output_type": "stream",
     "text": [
      "                                                                                "
     ]
    }
   ],
   "source": [
    "df = spark.read \\\n",
    "    .parquet('data/processed/2018/*')"
   ]
  },
  {
   "cell_type": "code",
   "execution_count": 4,
   "id": "3ccd4ef0-2ee2-4c46-b5a3-fa6f8cd352ec",
   "metadata": {},
   "outputs": [
    {
     "data": {
      "text/plain": [
       "StructType([StructField('Rental Id', StringType(), True), StructField('Duration', StringType(), True), StructField('Bike Id', StringType(), True), StructField('End Date', StringType(), True), StructField('EndStation Id', StringType(), True), StructField('EndStation Name', StringType(), True), StructField('Start Date', StringType(), True), StructField('StartStation Id', StringType(), True), StructField('StartStation Name', StringType(), True)])"
      ]
     },
     "execution_count": 4,
     "metadata": {},
     "output_type": "execute_result"
    }
   ],
   "source": [
    "df.schema"
   ]
  },
  {
   "cell_type": "code",
   "execution_count": 8,
   "id": "283b28b6-53e9-4f0b-aef9-f27a2e5f33d5",
   "metadata": {},
   "outputs": [
    {
     "name": "stderr",
     "output_type": "stream",
     "text": [
      "                                                                                "
     ]
    }
   ],
   "source": [
    "df.write.parquet(\"data/combined/2018\", mode='overwrite')"
   ]
  },
  {
   "cell_type": "code",
   "execution_count": 16,
   "id": "8170b858-c823-445c-a828-999753cd1fe1",
   "metadata": {},
   "outputs": [],
   "source": [
    "df_output = spark.read \\\n",
    "    .parquet('data/combined/2018')"
   ]
  },
  {
   "cell_type": "code",
   "execution_count": 17,
   "id": "500cc930-792f-441a-91f0-271954156153",
   "metadata": {},
   "outputs": [
    {
     "data": {
      "text/plain": [
       "StructType([StructField('Rental Id', IntegerType(), True), StructField('Duration', IntegerType(), True), StructField('Bike Id', IntegerType(), True), StructField('End Date', TimestampType(), True), StructField('EndStation Id', IntegerType(), True), StructField('EndStation Name', StringType(), True), StructField('Start Date', TimestampType(), True), StructField('StartStation Id', IntegerType(), True), StructField('StartStation Name', StringType(), True)])"
      ]
     },
     "execution_count": 17,
     "metadata": {},
     "output_type": "execute_result"
    }
   ],
   "source": [
    "df_output.schema"
   ]
  },
  {
   "cell_type": "code",
   "execution_count": null,
   "id": "d18bb680-13b0-4d0b-9a08-66fd8f8f3bfe",
   "metadata": {},
   "outputs": [],
   "source": []
  }
 ],
 "metadata": {
  "kernelspec": {
   "display_name": "Python 3 (ipykernel)",
   "language": "python",
   "name": "python3"
  },
  "language_info": {
   "codemirror_mode": {
    "name": "ipython",
    "version": 3
   },
   "file_extension": ".py",
   "mimetype": "text/x-python",
   "name": "python",
   "nbconvert_exporter": "python",
   "pygments_lexer": "ipython3",
   "version": "3.12.1"
  }
 },
 "nbformat": 4,
 "nbformat_minor": 5
}
