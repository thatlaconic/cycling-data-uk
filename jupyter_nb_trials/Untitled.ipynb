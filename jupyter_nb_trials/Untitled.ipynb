{
 "cells": [
  {
   "cell_type": "code",
   "execution_count": 1,
   "id": "eb3943ac-d359-4170-affd-9a4fa0ce612e",
   "metadata": {},
   "outputs": [],
   "source": [
    "import pyspark\n",
    "from pyspark.sql import SparkSession\n",
    "from pyspark.sql import types"
   ]
  },
  {
   "cell_type": "code",
   "execution_count": 2,
   "id": "0c737444-6fc0-4912-aa6b-b803267c8bb7",
   "metadata": {},
   "outputs": [
    {
     "name": "stderr",
     "output_type": "stream",
     "text": [
      "25/05/22 10:27:59 WARN Utils: Your hostname, codespaces-f4f75e resolves to a loopback address: 127.0.0.1; using 10.0.1.50 instead (on interface eth0)\n",
      "25/05/22 10:27:59 WARN Utils: Set SPARK_LOCAL_IP if you need to bind to another address\n",
      "Setting default log level to \"WARN\".\n",
      "To adjust logging level use sc.setLogLevel(newLevel). For SparkR, use setLogLevel(newLevel).\n",
      "25/05/22 10:28:00 WARN NativeCodeLoader: Unable to load native-hadoop library for your platform... using builtin-java classes where applicable\n"
     ]
    }
   ],
   "source": [
    "spark = SparkSession.builder \\\n",
    "    .master(\"local[*]\") \\\n",
    "    .appName('test') \\\n",
    "    .getOrCreate()"
   ]
  },
  {
   "cell_type": "code",
   "execution_count": 23,
   "id": "229f7827-de33-4494-a01a-64d40e64970a",
   "metadata": {},
   "outputs": [],
   "source": [
    "df = spark.read \\\n",
    "    .parquet('data/processed/2024/*')"
   ]
  },
  {
   "cell_type": "code",
   "execution_count": 24,
   "id": "db8c5088-0243-45d6-8868-a96df64c1650",
   "metadata": {},
   "outputs": [
    {
     "data": {
      "text/plain": [
       "StructType([StructField('Number', StringType(), True), StructField('Start date', StringType(), True), StructField('Start station number', StringType(), True), StructField('Start station', StringType(), True), StructField('End date', StringType(), True), StructField('End station number', StringType(), True), StructField('End station', StringType(), True), StructField('Bike number', StringType(), True), StructField('Bike model', StringType(), True), StructField('Total duration', StringType(), True), StructField('Total duration (ms)', StringType(), True)])"
      ]
     },
     "execution_count": 24,
     "metadata": {},
     "output_type": "execute_result"
    }
   ],
   "source": [
    "df.schema"
   ]
  },
  {
   "cell_type": "code",
   "execution_count": 25,
   "id": "5d4db4a7-e905-40e1-9fb2-d4096d17b3a5",
   "metadata": {},
   "outputs": [
    {
     "data": {
      "text/plain": [
       "['Number',\n",
       " 'Start date',\n",
       " 'Start station number',\n",
       " 'Start station',\n",
       " 'End date',\n",
       " 'End station number',\n",
       " 'End station',\n",
       " 'Bike number',\n",
       " 'Bike model',\n",
       " 'Total duration',\n",
       " 'Total duration (ms)']"
      ]
     },
     "execution_count": 25,
     "metadata": {},
     "output_type": "execute_result"
    }
   ],
   "source": [
    "df.columns"
   ]
  },
  {
   "cell_type": "code",
   "execution_count": null,
   "id": "aaaab844-aee8-46ba-bde9-8fa368a2239d",
   "metadata": {},
   "outputs": [],
   "source": []
  }
 ],
 "metadata": {
  "kernelspec": {
   "display_name": "Python 3 (ipykernel)",
   "language": "python",
   "name": "python3"
  },
  "language_info": {
   "codemirror_mode": {
    "name": "ipython",
    "version": 3
   },
   "file_extension": ".py",
   "mimetype": "text/x-python",
   "name": "python",
   "nbconvert_exporter": "python",
   "pygments_lexer": "ipython3",
   "version": "3.12.1"
  }
 },
 "nbformat": 4,
 "nbformat_minor": 5
}
