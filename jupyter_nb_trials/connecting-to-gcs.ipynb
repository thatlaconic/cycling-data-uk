{
 "cells": [
  {
   "cell_type": "code",
   "execution_count": 1,
   "id": "bac608bf-8dcb-4fe0-98eb-ca6675399c28",
   "metadata": {},
   "outputs": [],
   "source": [
    "import pyspark\n",
    "from pyspark.sql import SparkSession\n",
    "from pyspark.conf import SparkConf\n",
    "from pyspark.context import SparkContext"
   ]
  },
  {
   "cell_type": "code",
   "execution_count": 2,
   "id": "be9b4152-37c2-4f03-a5a9-db9feb25ddc4",
   "metadata": {},
   "outputs": [],
   "source": [
    "credentials_location = '/home/codespace/.config/gcloud/key.json'\n",
    "\n",
    "conf = SparkConf() \\\n",
    "    .setMaster('local[*]') \\\n",
    "    .setAppName('test') \\\n",
    "    .set(\"spark.jars\", \"/home/codespace/.config/gcs-connector-hadoop3-2.2.5.jar\") \\\n",
    "    .set(\"spark.hadoop.google.cloud.auth.service.account.enable\", \"true\") \\\n",
    "    .set(\"spark.hadoop.google.cloud.auth.service.account.json.keyfile\", credentials_location)"
   ]
  },
  {
   "cell_type": "code",
   "execution_count": 3,
   "id": "b070da7f-5877-492a-b510-d67a9230734b",
   "metadata": {},
   "outputs": [
    {
     "name": "stderr",
     "output_type": "stream",
     "text": [
      "25/05/12 08:56:39 WARN Utils: Your hostname, codespaces-f4f75e resolves to a loopback address: 127.0.0.1; using 10.0.0.129 instead (on interface eth0)\n",
      "25/05/12 08:56:39 WARN Utils: Set SPARK_LOCAL_IP if you need to bind to another address\n",
      "25/05/12 08:56:39 WARN NativeCodeLoader: Unable to load native-hadoop library for your platform... using builtin-java classes where applicable\n",
      "Setting default log level to \"WARN\".\n",
      "To adjust logging level use sc.setLogLevel(newLevel). For SparkR, use setLogLevel(newLevel).\n"
     ]
    }
   ],
   "source": [
    "sc = SparkContext(conf=conf)\n",
    "\n",
    "hadoop_conf = sc._jsc.hadoopConfiguration()\n",
    "\n",
    "hadoop_conf.set(\"fs.AbstractFileSystem.gs.impl\",  \"com.google.cloud.hadoop.fs.gcs.GoogleHadoopFS\")\n",
    "hadoop_conf.set(\"fs.gs.impl\", \"com.google.cloud.hadoop.fs.gcs.GoogleHadoopFileSystem\")\n",
    "hadoop_conf.set(\"fs.gs.auth.service.account.json.keyfile\", credentials_location)\n",
    "hadoop_conf.set(\"fs.gs.auth.service.account.enable\", \"true\")"
   ]
  },
  {
   "cell_type": "code",
   "execution_count": 4,
   "id": "ae283a2d-eb9f-4bed-8eef-c3e8e5de1987",
   "metadata": {},
   "outputs": [],
   "source": [
    "spark = SparkSession.builder \\\n",
    "    .config(conf=sc.getConf()) \\\n",
    "    .getOrCreate()"
   ]
  },
  {
   "cell_type": "code",
   "execution_count": 6,
   "id": "1a206234-0d4b-499d-86cb-c51644ded7c3",
   "metadata": {},
   "outputs": [
    {
     "name": "stderr",
     "output_type": "stream",
     "text": [
      "                                                                                "
     ]
    }
   ],
   "source": [
    "df = spark.read.parquet('gs://cycling_data_boreal-quarter-455022-q5/processed/2018/*')"
   ]
  },
  {
   "cell_type": "code",
   "execution_count": 8,
   "id": "817fe749-7502-450d-bd29-1dc49ad12992",
   "metadata": {},
   "outputs": [
    {
     "name": "stderr",
     "output_type": "stream",
     "text": [
      "                                                                                "
     ]
    },
    {
     "data": {
      "text/plain": [
       "9164211"
      ]
     },
     "execution_count": 8,
     "metadata": {},
     "output_type": "execute_result"
    }
   ],
   "source": [
    "df.count()"
   ]
  },
  {
   "cell_type": "code",
   "execution_count": 9,
   "id": "1ed63720-98ca-4f19-8636-9c3b9bff2b56",
   "metadata": {},
   "outputs": [
    {
     "name": "stderr",
     "output_type": "stream",
     "text": [
      "                                                                                "
     ]
    },
    {
     "name": "stdout",
     "output_type": "stream",
     "text": [
      "+---------+--------+-------+----------------+-------------+--------------------+----------------+---------------+--------------------+\n",
      "|Rental Id|Duration|Bike Id|        End Date|EndStation Id|     EndStation Name|      Start Date|StartStation Id|   StartStation Name|\n",
      "+---------+--------+-------+----------------+-------------+--------------------+----------------+---------------+--------------------+\n",
      "| 77333117|    1380|   6113|28/06/2018 08:48|          437|Vauxhall Walk, Va...|28/06/2018 08:25|            437|Vauxhall Walk, Va...|\n",
      "| 77286958|     420|  14502|27/06/2018 08:29|          503|Cleveland Way, St...|27/06/2018 08:22|            505|  Ackroyd Drive, Bow|\n",
      "| 77286837|     600|     78|27/06/2018 08:31|          303|Albert Gate, Hyde...|27/06/2018 08:21|            405|Gloucester Road S...|\n",
      "| 77331633|     420|  14564|28/06/2018 08:14|          246|Berry Street, Cle...|28/06/2018 08:07|              3|Christopher Stree...|\n",
      "| 77334562|     720|   8351|28/06/2018 08:52|          646|Buckingham Gate, ...|28/06/2018 08:40|            169|Porchester Place,...|\n",
      "| 77286289|     720|   4244|27/06/2018 08:27|          380|Stanhope Gate, Ma...|27/06/2018 08:15|             69| Euston Road, Euston|\n",
      "| 77379731|    1020|  13624|29/06/2018 09:16|          744|Ingrave Street, C...|29/06/2018 08:59|            737|Fulham Broadway, ...|\n",
      "| 77456638|    1920|   1388|01/07/2018 03:20|          503|Cleveland Way, St...|01/07/2018 02:48|            435|Kennington Statio...|\n",
      "| 77504423|     180|   4153|02/07/2018 09:13|          737|Fulham Broadway, ...|02/07/2018 09:10|            739|Hortensia Road, W...|\n",
      "| 77337838|     840|  11946|28/06/2018 09:39|           42|Wenlock Road , Ho...|28/06/2018 09:25|            446|York Hall, Bethna...|\n",
      "+---------+--------+-------+----------------+-------------+--------------------+----------------+---------------+--------------------+\n",
      "only showing top 10 rows\n",
      "\n"
     ]
    }
   ],
   "source": [
    "df.show(10)"
   ]
  },
  {
   "cell_type": "code",
   "execution_count": 10,
   "id": "d952f2fe-944f-4781-8a0a-f358c52cbf8e",
   "metadata": {},
   "outputs": [
    {
     "data": {
      "text/plain": [
       "StructType([StructField('Rental Id', StringType(), True), StructField('Duration', StringType(), True), StructField('Bike Id', StringType(), True), StructField('End Date', StringType(), True), StructField('EndStation Id', StringType(), True), StructField('EndStation Name', StringType(), True), StructField('Start Date', StringType(), True), StructField('StartStation Id', StringType(), True), StructField('StartStation Name', StringType(), True)])"
      ]
     },
     "execution_count": 10,
     "metadata": {},
     "output_type": "execute_result"
    }
   ],
   "source": [
    "df.schema"
   ]
  },
  {
   "cell_type": "code",
   "execution_count": null,
   "id": "6d286b8f-733c-4da9-91a6-174f677ec75a",
   "metadata": {},
   "outputs": [],
   "source": []
  }
 ],
 "metadata": {
  "kernelspec": {
   "display_name": "Python 3 (ipykernel)",
   "language": "python",
   "name": "python3"
  },
  "language_info": {
   "codemirror_mode": {
    "name": "ipython",
    "version": 3
   },
   "file_extension": ".py",
   "mimetype": "text/x-python",
   "name": "python",
   "nbconvert_exporter": "python",
   "pygments_lexer": "ipython3",
   "version": "3.12.1"
  }
 },
 "nbformat": 4,
 "nbformat_minor": 5
}
