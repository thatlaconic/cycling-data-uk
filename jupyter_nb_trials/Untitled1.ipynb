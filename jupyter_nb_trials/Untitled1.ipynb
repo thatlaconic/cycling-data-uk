{
 "cells": [
  {
   "cell_type": "code",
   "execution_count": 1,
   "id": "11b0c12f-0ffe-41d1-995a-95a863b2162e",
   "metadata": {},
   "outputs": [
    {
     "name": "stderr",
     "output_type": "stream",
     "text": [
      "25/04/29 10:53:39 WARN Utils: Your hostname, codespaces-f4f75e resolves to a loopback address: 127.0.0.1; using 10.0.3.79 instead (on interface eth0)\n",
      "25/04/29 10:53:39 WARN Utils: Set SPARK_LOCAL_IP if you need to bind to another address\n",
      "Setting default log level to \"WARN\".\n",
      "To adjust logging level use sc.setLogLevel(newLevel). For SparkR, use setLogLevel(newLevel).\n",
      "25/04/29 10:53:39 WARN NativeCodeLoader: Unable to load native-hadoop library for your platform... using builtin-java classes where applicable\n"
     ]
    },
    {
     "name": "stdout",
     "output_type": "stream",
     "text": [
      "+-------+--------------------+--------------+------------------------------+---------+---------------------------------+--------------------+-----------------+------------------+---------+------------+\n",
      "|Site ID|Location description|       Borough|Functional area for monitoring|Road type|Is it on the strategic CIO panel?|Old site ID (legacy)|Easting (UK Grid)|Northing (UK Grid)| Latitude|   Longitude|\n",
      "+-------+--------------------+--------------+------------------------------+---------+---------------------------------+--------------------+-----------------+------------------+---------+------------+\n",
      "| ML0001|Millbank (south o...|   Westminster|                    01 Central|01 A Road|                                1|            CENCY001|        530251.49|         178742.45|51.492628| -0.12520362|\n",
      "| ML0002|         Bishopsgate|City of London|                    01 Central|01 A Road|                                2|            CENCY002|        533362.68|         181824.45|51.519599| -0.07925389|\n",
      "| ML0003|    Southwark Bridge|     Southwark|                    01 Central|01 A Road|                                3|            CENCY003|        532334.06|         180520.37|51.508123|-0.094550618|\n",
      "| ML0004|Southwark Bridge ...|     Southwark|                    01 Central|01 A Road|                                4|            CENCY004|         532052.5|         179677.64|51.500613|-0.098926959|\n",
      "| ML0005|       Tooley Street|     Southwark|                    01 Central|01 A Road|                                5|            CENCY005|        533031.59|         180213.46|  51.5052|-0.084629047|\n",
      "| ML0006|Southwark Bridge ...|     Southwark|                    01 Central|01 A Road|                                6|            CENCY006|         532263.5|         180067.71|51.504068|-0.095742803|\n",
      "| ML0007|Albert Embankment...|       Lambeth|                    01 Central|01 A Road|                                7|            CENCY007|        530467.76|         178622.08|  51.4915| -0.12213838|\n",
      "| ML0008|              Strand|   Westminster|                    01 Central|01 A Road|                                8|            CENCY008|        530347.31|         180653.54|51.509779| -0.12311615|\n",
      "| ML0009|  Charing Cross Road|   Westminster|                    01 Central|01 A Road|                                9|            CENCY009|         529990.4|         180677.24|51.510077| -0.12824866|\n",
      "| ML0010| Lambeth Palace Road|       Lambeth|                    01 Central|01 A Road|                               10|            CENCY010|        530804.02|         179489.31|51.499213| -0.11696597|\n",
      "| ML0011|Whitehall (south ...|   Westminster|                    01 Central|01 A Road|                               11|            CENCY011|        530147.22|         180015.05|51.504092| -0.12623169|\n",
      "| ML0012|  Westminster Bridge|       Lambeth|                    01 Central|01 A Road|                               12|            CENCY012|        530573.64|         179657.29|51.500776| -0.12022982|\n",
      "| ML0013|Victoria Embankme...|   Westminster|                    01 Central|01 A Road|                               13|            CENCY013|        530526.13|         180526.32|51.508597| -0.12058526|\n",
      "| ML0014|Victoria Embankme...|   Westminster|                    01 Central|01 A Road|                               14|            CENCY014|        530326.96|         179837.81|51.502451| -0.12371985|\n",
      "| ML0015|Millbank (north o...|   Westminster|                    01 Central|01 A Road|                               15|            CENCY015|        530201.66|         179250.93|51.497205| -0.12573618|\n",
      "| ML0016|      Lambeth Bridge|   Westminster|                    01 Central|01 A Road|                               16|            CENCY016|        530398.21|          178956.9|51.494517|  -0.1230084|\n",
      "| ML0017|     Waterloo Bridge|       Lambeth|                    01 Central|01 A Road|                               17|            CENCY017|        530788.45|         180526.51|51.508536| -0.11681217|\n",
      "| ML0018|     Victoria Street|   Westminster|                    01 Central|01 A Road|                               18|            CENCY018|        529919.79|         179492.54|51.499444| -0.12970727|\n",
      "| ML0019|       Bridge Street|   Westminster|                    01 Central|01 A Road|                               19|            CENCY019|        530249.63|         179666.46|51.500932| -0.12489167|\n",
      "| ML0020|           Pall Mall|   Westminster|                    01 Central|01 A Road|                               20|            CENCY020|        529532.62|         180244.98|51.506291| -0.13500354|\n",
      "+-------+--------------------+--------------+------------------------------+---------+---------------------------------+--------------------+-----------------+------------------+---------+------------+\n",
      "only showing top 20 rows\n",
      "\n"
     ]
    }
   ],
   "source": [
    "import pyspark\n",
    "from pyspark.sql import SparkSession\n",
    "\n",
    "spark = SparkSession.builder \\\n",
    "    .master(\"local[*]\") \\\n",
    "    .appName('test') \\\n",
    "    .getOrCreate()\n",
    "\n",
    "df = spark.read \\\n",
    "    .option(\"header\", \"true\") \\\n",
    "    .csv('1 Monitoring locations.csv')\n",
    "\n",
    "df.show()"
   ]
  },
  {
   "cell_type": "code",
   "execution_count": 2,
   "id": "7355347a-5e33-45bc-b2d8-da7b8644f295",
   "metadata": {},
   "outputs": [
    {
     "name": "stderr",
     "output_type": "stream",
     "text": [
      "                                                                                "
     ]
    }
   ],
   "source": [
    "df.write.parquet('locations')"
   ]
  },
  {
   "cell_type": "code",
   "execution_count": null,
   "id": "fbf7f0bb-d60f-464f-be2f-494706255935",
   "metadata": {},
   "outputs": [],
   "source": []
  }
 ],
 "metadata": {
  "kernelspec": {
   "display_name": "Python 3 (ipykernel)",
   "language": "python",
   "name": "python3"
  },
  "language_info": {
   "codemirror_mode": {
    "name": "ipython",
    "version": 3
   },
   "file_extension": ".py",
   "mimetype": "text/x-python",
   "name": "python",
   "nbconvert_exporter": "python",
   "pygments_lexer": "ipython3",
   "version": "3.12.1"
  }
 },
 "nbformat": 4,
 "nbformat_minor": 5
}
